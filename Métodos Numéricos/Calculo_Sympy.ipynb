{
  "nbformat": 4,
  "nbformat_minor": 0,
  "metadata": {
    "colab": {
      "provenance": [],
      "authorship_tag": "ABX9TyP/rliPJiM2+ICnS+3NaRs0",
      "include_colab_link": true
    },
    "kernelspec": {
      "name": "python3",
      "display_name": "Python 3"
    },
    "language_info": {
      "name": "python"
    }
  },
  "cells": [
    {
      "cell_type": "markdown",
      "metadata": {
        "id": "view-in-github",
        "colab_type": "text"
      },
      "source": [
        "<a href=\"https://colab.research.google.com/github/JManuelRG/RDD/blob/main/M%C3%A9todos%20Num%C3%A9ricos/Calculo_Sympy.ipynb\" target=\"_parent\"><img src=\"https://colab.research.google.com/assets/colab-badge.svg\" alt=\"Open In Colab\"/></a>"
      ]
    },
    {
      "cell_type": "markdown",
      "source": [
        "# Cálculo Simbólico con Sympy\n",
        "sympy.org"
      ],
      "metadata": {
        "id": "16d0cUQMQxsm"
      }
    },
    {
      "cell_type": "code",
      "source": [
        "import sympy as sp"
      ],
      "metadata": {
        "id": "lszOksKxQyTE"
      },
      "execution_count": null,
      "outputs": []
    },
    {
      "cell_type": "code",
      "source": [
        "# Definir variables independientes\n",
        "x = sp.symbols('x')\n",
        "x1 = sp.symbols('x_1')\n",
        "sigma = sp.symbols('sigma')\n",
        "Lambda = sp.symbols('Lambda')\n",
        "xi1 = sp.symbols('Xi_1')"
      ],
      "metadata": {
        "id": "zo-jelxqQyay"
      },
      "execution_count": null,
      "outputs": []
    },
    {
      "cell_type": "code",
      "source": [
        "display(xi1)"
      ],
      "metadata": {
        "colab": {
          "base_uri": "https://localhost:8080/",
          "height": 37
        },
        "id": "ADEmZUY7QyeI",
        "outputId": "4420b7c0-4b59-44ac-998e-0ebe45f21064"
      },
      "execution_count": null,
      "outputs": [
        {
          "output_type": "display_data",
          "data": {
            "text/plain": [
              "Xi_1"
            ],
            "text/latex": "$\\displaystyle \\Xi_{1}$"
          },
          "metadata": {}
        }
      ]
    },
    {
      "cell_type": "code",
      "source": [
        "# Definir funciones\n",
        "\n",
        "# Marcar la función en términos de una variable\n",
        "f = sp.Function('f')('x')\n",
        "\n",
        "g = 9*x**2 + 10*x - sp.cos(x)\n",
        "\n",
        "h = 10*sp.exp(2*x)\n"
      ],
      "metadata": {
        "id": "XycgCkqlS7Cp"
      },
      "execution_count": null,
      "outputs": []
    },
    {
      "cell_type": "code",
      "source": [
        "display(f)\n",
        "display(g)\n",
        "display(h)"
      ],
      "metadata": {
        "colab": {
          "base_uri": "https://localhost:8080/",
          "height": 83
        },
        "id": "ENkk3JJ_TEPW",
        "outputId": "21876886-6eab-45d8-db1d-baf7c494c96e"
      },
      "execution_count": null,
      "outputs": [
        {
          "output_type": "display_data",
          "data": {
            "text/plain": [
              "f(x)"
            ],
            "text/latex": "$\\displaystyle f{\\left(x \\right)}$"
          },
          "metadata": {}
        },
        {
          "output_type": "display_data",
          "data": {
            "text/plain": [
              "9*x**2 + 10*x - cos(x)"
            ],
            "text/latex": "$\\displaystyle 9 x^{2} + 10 x - \\cos{\\left(x \\right)}$"
          },
          "metadata": {}
        },
        {
          "output_type": "display_data",
          "data": {
            "text/plain": [
              "10*exp(2*x)"
            ],
            "text/latex": "$\\displaystyle 10 e^{2 x}$"
          },
          "metadata": {}
        }
      ]
    },
    {
      "cell_type": "code",
      "source": [
        "j = 10*Lambda/xi1 + sp.sin(x)\n",
        "display(j)"
      ],
      "metadata": {
        "colab": {
          "base_uri": "https://localhost:8080/",
          "height": 54
        },
        "id": "V-kcIIhRUTFf",
        "outputId": "179961e5-ad74-477b-afb0-4a2fff7f7103"
      },
      "execution_count": null,
      "outputs": [
        {
          "output_type": "display_data",
          "data": {
            "text/plain": [
              "10*Lambda/Xi_1 + sin(x)"
            ],
            "text/latex": "$\\displaystyle \\frac{10 \\Lambda}{\\Xi_{1}} + \\sin{\\left(x \\right)}$"
          },
          "metadata": {}
        }
      ]
    },
    {
      "cell_type": "code",
      "source": [
        "g"
      ],
      "metadata": {
        "colab": {
          "base_uri": "https://localhost:8080/",
          "height": 39
        },
        "id": "eoYQgg1XUfWn",
        "outputId": "9c33901b-cd9d-4b7f-fa48-d7da7ab8c055"
      },
      "execution_count": null,
      "outputs": [
        {
          "output_type": "execute_result",
          "data": {
            "text/plain": [
              "9*x**2 + 10*x - cos(x)"
            ],
            "text/latex": "$\\displaystyle 9 x^{2} + 10 x - \\cos{\\left(x \\right)}$"
          },
          "metadata": {},
          "execution_count": 29
        }
      ]
    },
    {
      "cell_type": "code",
      "source": [
        "# Sustituir valores\n",
        "g.subs(x, 1)"
      ],
      "metadata": {
        "colab": {
          "base_uri": "https://localhost:8080/",
          "height": 37
        },
        "id": "E5a08EXCUz0n",
        "outputId": "19fd6a00-6062-458d-cd71-ddbb7e121720"
      },
      "execution_count": null,
      "outputs": [
        {
          "output_type": "execute_result",
          "data": {
            "text/plain": [
              "19 - cos(1)"
            ],
            "text/latex": "$\\displaystyle 19 - \\cos{\\left(1 \\right)}$"
          },
          "metadata": {},
          "execution_count": 31
        }
      ]
    },
    {
      "cell_type": "code",
      "source": [
        "# Obtener la diferencial de g respecto a x\n",
        "g.diff(x)"
      ],
      "metadata": {
        "colab": {
          "base_uri": "https://localhost:8080/",
          "height": 39
        },
        "id": "WRanCi27UfJC",
        "outputId": "94295dff-2c60-4592-c95c-1570279d1a66"
      },
      "execution_count": null,
      "outputs": [
        {
          "output_type": "execute_result",
          "data": {
            "text/plain": [
              "18*x + sin(x) + 10"
            ],
            "text/latex": "$\\displaystyle 18 x + \\sin{\\left(x \\right)} + 10$"
          },
          "metadata": {},
          "execution_count": 30
        }
      ]
    },
    {
      "cell_type": "code",
      "source": [
        "# Obtener la diferencial de g respecto a x,\n",
        "# evaluandola en x = 1\n",
        "g.diff(x).subs(x,1)"
      ],
      "metadata": {
        "colab": {
          "base_uri": "https://localhost:8080/",
          "height": 37
        },
        "id": "5g4s6u-PUdpW",
        "outputId": "a3035140-4597-490f-ea1d-89ea3596b910"
      },
      "execution_count": null,
      "outputs": [
        {
          "output_type": "execute_result",
          "data": {
            "text/plain": [
              "sin(1) + 28"
            ],
            "text/latex": "$\\displaystyle \\sin{\\left(1 \\right)} + 28$"
          },
          "metadata": {},
          "execution_count": 34
        }
      ]
    },
    {
      "cell_type": "code",
      "source": [
        "# Obtener la derivada de orden n = 2, cambiar n\n",
        "g.diff(x, 2)"
      ],
      "metadata": {
        "colab": {
          "base_uri": "https://localhost:8080/",
          "height": 39
        },
        "id": "wODJt4ByVhcX",
        "outputId": "05dfb308-193b-430a-c447-5d74c4cc9953"
      },
      "execution_count": null,
      "outputs": [
        {
          "output_type": "execute_result",
          "data": {
            "text/plain": [
              "cos(x) + 18"
            ],
            "text/latex": "$\\displaystyle \\cos{\\left(x \\right)} + 18$"
          },
          "metadata": {},
          "execution_count": 35
        }
      ]
    },
    {
      "cell_type": "code",
      "source": [
        "# Integración simbólica indefinidas\n",
        "display(j)"
      ],
      "metadata": {
        "colab": {
          "base_uri": "https://localhost:8080/",
          "height": 54
        },
        "id": "VlM8yLnbW4rz",
        "outputId": "7f2892b8-ad3e-4d09-cb8f-f6073ef2970b"
      },
      "execution_count": null,
      "outputs": [
        {
          "output_type": "display_data",
          "data": {
            "text/plain": [
              "10*Lambda/Xi_1 + sin(x)"
            ],
            "text/latex": "$\\displaystyle \\frac{10 \\Lambda}{\\Xi_{1}} + \\sin{\\left(x \\right)}$"
          },
          "metadata": {}
        }
      ]
    },
    {
      "cell_type": "code",
      "source": [
        "sp.integrate(j, x)"
      ],
      "metadata": {
        "colab": {
          "base_uri": "https://localhost:8080/",
          "height": 54
        },
        "id": "SlhlxKOAW4dq",
        "outputId": "f161cdb8-4465-4d02-f776-f06c725a9696"
      },
      "execution_count": null,
      "outputs": [
        {
          "output_type": "execute_result",
          "data": {
            "text/plain": [
              "10*Lambda*x/Xi_1 - cos(x)"
            ],
            "text/latex": "$\\displaystyle \\frac{10 \\Lambda x}{\\Xi_{1}} - \\cos{\\left(x \\right)}$"
          },
          "metadata": {},
          "execution_count": 37
        }
      ]
    },
    {
      "cell_type": "code",
      "source": [
        "display(g)"
      ],
      "metadata": {
        "colab": {
          "base_uri": "https://localhost:8080/",
          "height": 39
        },
        "id": "uKmF9QQgXSM6",
        "outputId": "a21b9cfa-3200-4d19-b079-9f08e121f948"
      },
      "execution_count": null,
      "outputs": [
        {
          "output_type": "display_data",
          "data": {
            "text/plain": [
              "9*x**2 + 10*x - cos(x)"
            ],
            "text/latex": "$\\displaystyle 9 x^{2} + 10 x - \\cos{\\left(x \\right)}$"
          },
          "metadata": {}
        }
      ]
    },
    {
      "cell_type": "code",
      "source": [
        "g.integrate(x)"
      ],
      "metadata": {
        "colab": {
          "base_uri": "https://localhost:8080/",
          "height": 39
        },
        "id": "E0cKtZ72W4Ue",
        "outputId": "952fe342-73d3-4cb2-9d47-5bd9a8f6ec72"
      },
      "execution_count": null,
      "outputs": [
        {
          "output_type": "execute_result",
          "data": {
            "text/plain": [
              "3*x**3 + 5*x**2 - sin(x)"
            ],
            "text/latex": "$\\displaystyle 3 x^{3} + 5 x^{2} - \\sin{\\left(x \\right)}$"
          },
          "metadata": {},
          "execution_count": 39
        }
      ]
    },
    {
      "cell_type": "code",
      "source": [
        "# Integral definida:\n",
        "g.integrate((x, 0, 1))"
      ],
      "metadata": {
        "colab": {
          "base_uri": "https://localhost:8080/",
          "height": 37
        },
        "id": "5gYOMkbAXpIo",
        "outputId": "c91039c7-2211-4600-c165-20aab97d5c07"
      },
      "execution_count": null,
      "outputs": [
        {
          "output_type": "execute_result",
          "data": {
            "text/plain": [
              "8 - sin(1)"
            ],
            "text/latex": "$\\displaystyle 8 - \\sin{\\left(1 \\right)}$"
          },
          "metadata": {},
          "execution_count": 40
        }
      ]
    },
    {
      "cell_type": "code",
      "source": [
        "# Integración Teorema Fundamental del Cálculo\n",
        "g.integrate(x).subs(x,1) - g.integrate(x).subs(x,0)"
      ],
      "metadata": {
        "colab": {
          "base_uri": "https://localhost:8080/",
          "height": 37
        },
        "id": "70KTcPSXW4NN",
        "outputId": "5a1c61d0-fb52-4907-82ab-bbf7a480e54f"
      },
      "execution_count": null,
      "outputs": [
        {
          "output_type": "execute_result",
          "data": {
            "text/plain": [
              "8 - sin(1)"
            ],
            "text/latex": "$\\displaystyle 8 - \\sin{\\left(1 \\right)}$"
          },
          "metadata": {},
          "execution_count": 41
        }
      ]
    },
    {
      "cell_type": "code",
      "source": [
        "# Simplificación\n",
        "sp.simplify(x**3/x**2)"
      ],
      "metadata": {
        "colab": {
          "base_uri": "https://localhost:8080/",
          "height": 39
        },
        "id": "p-zRXPLbY1_9",
        "outputId": "9970454c-cebb-4a39-b4c3-31877fd67457"
      },
      "execution_count": null,
      "outputs": [
        {
          "output_type": "execute_result",
          "data": {
            "text/plain": [
              "x"
            ],
            "text/latex": "$\\displaystyle x$"
          },
          "metadata": {},
          "execution_count": 45
        }
      ]
    },
    {
      "cell_type": "markdown",
      "source": [
        "![image.png](data:image/png;base64,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)"
      ],
      "metadata": {
        "id": "weKZB2kSZ052"
      }
    },
    {
      "cell_type": "code",
      "source": [
        "# Solución de ecuaciones no lineales\n",
        "t = sp.symbols('t')\n",
        "y = 10*sp.exp(t/2)*sp.cos(2*t) - 4"
      ],
      "metadata": {
        "id": "nM0D3TabZCom"
      },
      "execution_count": null,
      "outputs": []
    },
    {
      "cell_type": "code",
      "source": [
        "display(y)"
      ],
      "metadata": {
        "colab": {
          "base_uri": "https://localhost:8080/",
          "height": 40
        },
        "id": "9rBs9L3uZ3kW",
        "outputId": "fe40b183-1178-43d9-d409-429366e48ee9"
      },
      "execution_count": null,
      "outputs": [
        {
          "output_type": "display_data",
          "data": {
            "text/plain": [
              "10*exp(t/2)*cos(2*t) - 4"
            ],
            "text/latex": "$\\displaystyle 10 e^{\\frac{t}{2}} \\cos{\\left(2 t \\right)} - 4$"
          },
          "metadata": {}
        }
      ]
    },
    {
      "cell_type": "code",
      "source": [
        "# Encontrar la raíz de la función:\n",
        "\n",
        "# Definir la función a resolver, como una igualdad\n",
        "ec = sp.Eq(10*sp.exp(t/2)*sp.cos(2*t) , 4)\n",
        "display(ec)"
      ],
      "metadata": {
        "colab": {
          "base_uri": "https://localhost:8080/",
          "height": 40
        },
        "id": "lDFt2GZaZ3gw",
        "outputId": "351ea603-0ff8-4121-d85a-64c18d446351"
      },
      "execution_count": null,
      "outputs": [
        {
          "output_type": "display_data",
          "data": {
            "text/plain": [
              "Eq(10*exp(t/2)*cos(2*t), 4)"
            ],
            "text/latex": "$\\displaystyle 10 e^{\\frac{t}{2}} \\cos{\\left(2 t \\right)} = 4$"
          },
          "metadata": {}
        }
      ]
    },
    {
      "cell_type": "code",
      "source": [
        "# Buscar la solución numérica,\n",
        "# resolver la ecuación almacenada en ec, respecto a t\n",
        "# usando un valor inicial de 4\n",
        "sp.nsolve(ec, t, 4)"
      ],
      "metadata": {
        "colab": {
          "base_uri": "https://localhost:8080/",
          "height": 37
        },
        "id": "bZA1vcQra8-f",
        "outputId": "33d2c236-3683-4797-a8f2-5b6bb8cf7e4e"
      },
      "execution_count": null,
      "outputs": [
        {
          "output_type": "execute_result",
          "data": {
            "text/plain": [
              "3.89849922594267"
            ],
            "text/latex": "$\\displaystyle 3.89849922594267$"
          },
          "metadata": {},
          "execution_count": 59
        }
      ]
    }
  ]
}