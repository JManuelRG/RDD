{
  "cells": [
    {
      "cell_type": "markdown",
      "metadata": {
        "id": "view-in-github",
        "colab_type": "text"
      },
      "source": [
        "<a href=\"https://colab.research.google.com/github/JManuelRG/RDD/blob/main/M%C3%A9todos%20Num%C3%A9ricos/2%20Biseccion.ipynb\" target=\"_parent\"><img src=\"https://colab.research.google.com/assets/colab-badge.svg\" alt=\"Open In Colab\"/></a>"
      ]
    },
    {
      "cell_type": "markdown",
      "metadata": {
        "id": "7O4S6ETpVKmy"
      },
      "source": [
        "# Calculadora Método de Bisección"
      ]
    },
    {
      "cell_type": "markdown",
      "metadata": {
        "id": "OdEISbCsOeSL"
      },
      "source": [
        "# Video Explicación:\n",
        "# https://youtu.be/uKJmJaOJ_Jw"
      ]
    },
    {
      "cell_type": "markdown",
      "metadata": {
        "id": "IqasgTf7VM23"
      },
      "source": [
        "# Lectura de la función\n",
        "Instrucciones:\n",
        "1. Ejecutar la celda no. 1.\n",
        "2. Introducir la función a resolver de la forma:\n",
        "$$f(x)=0$$\n",
        "\n",
        "\n",
        "| Operación   | Operador    |\n",
        "| :---        |        ---: |\n",
        "| Suma        | +           |\n",
        "| Resta       | -           |\n",
        "| Multiplicación | *        |\n",
        "| División       | /        |\n",
        "| Exponenciación | **        |\n",
        "| Exponencial|exp()|\n",
        "|logaritmo natural| log()|\n",
        "|logaritmo base p|log(x, p)|\n",
        "|seno|sin(x)|\n",
        "|coseno|cos(x)|\n",
        "\n",
        "\n",
        " Más funciones matemáticas en sympy:\n",
        " https://docs.sympy.org/latest/index.html\n",
        "\n",
        "\n",
        "3. Introducir los límites de graficación\n",
        "4. Generar el gráfico"
      ]
    },
    {
      "cell_type": "code",
      "execution_count": null,
      "metadata": {
        "colab": {
          "background_save": true,
          "base_uri": "https://localhost:8080/",
          "height": 688,
          "referenced_widgets": [
            "878a46eaed9940c0b71031d372c8923e",
            "7ba88275618a4e3c95ffe78570e69be2",
            "c4c4259047ba4a8787aedc3d0c39ee67",
            "935691f0ab0a462480a5a461f05ec238"
          ]
        },
        "id": "3mXHxZpmVJc6",
        "outputId": "3aaece47-b980-435a-8507-5f5556ff093c"
      },
      "outputs": [
        {
          "data": {
            "application/vnd.jupyter.widget-view+json": {
              "model_id": "878a46eaed9940c0b71031d372c8923e",
              "version_major": 2,
              "version_minor": 0
            },
            "text/plain": [
              "Text(value='x**2', description='Función f(x):')"
            ]
          },
          "metadata": {},
          "output_type": "display_data"
        },
        {
          "data": {
            "application/vnd.jupyter.widget-view+json": {
              "model_id": "7ba88275618a4e3c95ffe78570e69be2",
              "version_major": 2,
              "version_minor": 0
            },
            "text/plain": [
              "Text(value='-10', description='Límite inferior (a):')"
            ]
          },
          "metadata": {},
          "output_type": "display_data"
        },
        {
          "data": {
            "application/vnd.jupyter.widget-view+json": {
              "model_id": "c4c4259047ba4a8787aedc3d0c39ee67",
              "version_major": 2,
              "version_minor": 0
            },
            "text/plain": [
              "Text(value='10', description='Límite superior (b):')"
            ]
          },
          "metadata": {},
          "output_type": "display_data"
        },
        {
          "data": {
            "application/vnd.jupyter.widget-view+json": {
              "model_id": "935691f0ab0a462480a5a461f05ec238",
              "version_major": 2,
              "version_minor": 0
            },
            "text/plain": [
              "Button(description='Graficar', style=ButtonStyle())"
            ]
          },
          "metadata": {},
          "output_type": "display_data"
        }
      ],
      "source": [
        "import numpy as np\n",
        "import matplotlib.pyplot as plt\n",
        "from sympy import *\n",
        "from sympy import symbols, lambdify, sympify\n",
        "import ipywidgets as widgets\n",
        "from IPython.display import display, clear_output\n",
        "\n",
        "# Función para evaluar la expresión simbólica\n",
        "def eval_function(expression, x_val):\n",
        "    x = symbols('x')\n",
        "    return lambdify(x, expression, 'numpy')(x_val)\n",
        "\n",
        "# Función para graficar la función\n",
        "def plot_function(expr_str, a, b):\n",
        "    try:\n",
        "        expression = sympify(expr_str)\n",
        "        a = float(a)\n",
        "        b = float(b)\n",
        "\n",
        "        x = np.linspace(a, b, 400)\n",
        "        y = eval_function(expression, x)\n",
        "\n",
        "        plt.figure(figsize=(10, 6))\n",
        "        plt.plot(x, y, label=f'f(x) = {expr_str}')\n",
        "        plt.title('Gráfico de la función')\n",
        "        plt.xlabel('x')\n",
        "        plt.ylabel('f(x)')\n",
        "        plt.grid(True)\n",
        "        plt.legend()\n",
        "        plt.show()\n",
        "    except ValueError as e:\n",
        "        print(f\"Error: {str(e)}\")\n",
        "    except Exception as e:\n",
        "        print(f\"Error en la evaluación de la función: {str(e)}\")\n",
        "\n",
        "# Widgets de entrada\n",
        "func_input = widgets.Text(value='x**2', description='Función f(x):')\n",
        "a_input = widgets.Text(value='-10', description='Límite inferior (a):')\n",
        "b_input = widgets.Text(value='10', description='Límite superior (b):')\n",
        "plot_button = widgets.Button(description=\"Graficar\")\n",
        "\n",
        "# Función para manejar el evento de clic del botón\n",
        "def on_plot_button_clicked(b):\n",
        "    clear_output(wait=True)\n",
        "    display(func_input, a_input, b_input, plot_button)\n",
        "    plot_function(func_input.value, a_input.value, b_input.value)\n",
        "\n",
        "# Asignar el controlador de eventos al botón\n",
        "plot_button.on_click(on_plot_button_clicked)\n",
        "\n",
        "# Mostrar los widgets\n",
        "display(func_input, a_input, b_input, plot_button)\n"
      ]
    },
    {
      "cell_type": "markdown",
      "metadata": {
        "id": "M1MaIYEhV66J"
      },
      "source": [
        "# Método de Bisección"
      ]
    },
    {
      "cell_type": "code",
      "execution_count": null,
      "metadata": {
        "colab": {
          "base_uri": "https://localhost:8080/",
          "height": 1000,
          "referenced_widgets": [
            "9108d142a69047d282be5a32a2b30ba7",
            "bb1e7d8cbeaf47108d8f2b7cbd413e86",
            "835d244e54684e25b45959a5d160994f",
            "23e3aabe2bec4bafac775a1b689236c9",
            "d9d5c9c05910430e83f72ef0f9b1bfa6",
            "7ab4835838004ffca5069cd9097cc14c",
            "e0d079b8e94748e5bc42dd2145a6f42c",
            "f0cd34935a264ac6b63132f57b4f84b8",
            "3444b19fe678482ebfdb07bc08cc6fa2",
            "a7cdd38e020a4525833b6dcf64e0925e",
            "43ffd58d550e42ea8aded5c55c86eb40",
            "c35452c7a6d347c7b3efb5b48b9ebb1d",
            "a3723ba5b2804dc0a5f4ae0edfd3689f",
            "08f4db80fe45417fb442f4f2107dc54e",
            "4532a55b7d854f5e8523c90fd78a5654",
            "716d8045a0144ed19eb13c7e40c5c2c2",
            "5b8d3cb65c1c479295a2eae79bded43b",
            "f38614d2f0f344d288dfa3ac8a010793"
          ]
        },
        "id": "0kYM7JOFV9IG",
        "outputId": "c40bc62c-ec4d-4e77-d194-6a4636d18181"
      },
      "outputs": [
        {
          "data": {
            "application/vnd.jupyter.widget-view+json": {
              "model_id": "9108d142a69047d282be5a32a2b30ba7",
              "version_major": 2,
              "version_minor": 0
            },
            "text/plain": [
              "Text(value='10*exp(x/2)*cos(2*x)-4', description='Función f(x):')"
            ]
          },
          "metadata": {},
          "output_type": "display_data"
        },
        {
          "data": {
            "application/vnd.jupyter.widget-view+json": {
              "model_id": "23e3aabe2bec4bafac775a1b689236c9",
              "version_major": 2,
              "version_minor": 0
            },
            "text/plain": [
              "Text(value='3', description='a:')"
            ]
          },
          "metadata": {},
          "output_type": "display_data"
        },
        {
          "data": {
            "application/vnd.jupyter.widget-view+json": {
              "model_id": "e0d079b8e94748e5bc42dd2145a6f42c",
              "version_major": 2,
              "version_minor": 0
            },
            "text/plain": [
              "Text(value='5', description='b:')"
            ]
          },
          "metadata": {},
          "output_type": "display_data"
        },
        {
          "data": {
            "application/vnd.jupyter.widget-view+json": {
              "model_id": "a7cdd38e020a4525833b6dcf64e0925e",
              "version_major": 2,
              "version_minor": 0
            },
            "text/plain": [
              "Text(value='0.001', description='Tolerancia:')"
            ]
          },
          "metadata": {},
          "output_type": "display_data"
        },
        {
          "data": {
            "application/vnd.jupyter.widget-view+json": {
              "model_id": "a3723ba5b2804dc0a5f4ae0edfd3689f",
              "version_major": 2,
              "version_minor": 0
            },
            "text/plain": [
              "Text(value='50', description='Máx. Iteraciones:')"
            ]
          },
          "metadata": {},
          "output_type": "display_data"
        },
        {
          "data": {
            "application/vnd.jupyter.widget-view+json": {
              "model_id": "716d8045a0144ed19eb13c7e40c5c2c2",
              "version_major": 2,
              "version_minor": 0
            },
            "text/plain": [
              "Button(description='Calcular', style=ButtonStyle())"
            ]
          },
          "metadata": {},
          "output_type": "display_data"
        },
        {
          "data": {
            "image/png": "[encoded data removed]",
            "text/plain": [
              "<Figure size 1000x600 with 1 Axes>"
            ]
          },
          "metadata": {},
          "output_type": "display_data"
        },
        {
          "data": {
            "text/html": [
              "<table><tr><th>Iteración</th><th>a</th><th>b</th><th>c</th><th>f(c)</th></tr><tr><td>0</td><td>3.000000</td><td>5.000000</td><td>4.000000</td><td>-14.751079</td></tr><tr><td>1</td><td>3.000000</td><td>4.000000</td><td>3.500000</td><td>39.384079</td></tr><tr><td>2</td><td>3.500000</td><td>4.000000</td><td>3.750000</td><td>18.603462</td></tr><tr><td>3</td><td>3.750000</td><td>4.000000</td><td>3.875000</td><td>3.204756</td></tr><tr><td>4</td><td>3.875000</td><td>4.000000</td><td>3.937500</td><td>-5.505165</td></tr><tr><td>5</td><td>3.875000</td><td>3.937500</td><td>3.906250</td><td>-1.076099</td></tr><tr><td>6</td><td>3.875000</td><td>3.906250</td><td>3.890625</td><td>1.083688</td></tr><tr><td>7</td><td>3.890625</td><td>3.906250</td><td>3.898438</td><td>0.008533</td></tr><tr><td>8</td><td>3.898438</td><td>3.906250</td><td>3.902344</td><td>-0.532611</td></tr><tr><td>9</td><td>3.898438</td><td>3.902344</td><td>3.900391</td><td>-0.261745</td></tr><tr><td>10</td><td>3.898438</td><td>3.900391</td><td>3.899414</td><td>-0.126532</td></tr></table>"
            ],
            "text/plain": [
              "<IPython.core.display.HTML object>"
            ]
          },
          "metadata": {},
          "output_type": "display_data"
        }
      ],
      "source": [
        "import numpy as np\n",
        "import matplotlib.pyplot as plt\n",
        "from sympy import symbols, lambdify, sympify\n",
        "import ipywidgets as widgets\n",
        "from IPython.display import display, clear_output\n",
        "from sympy import *\n",
        "\n",
        "# Función para evaluar la expresión simbólica\n",
        "def eval_function(expression, x_val):\n",
        "    x = symbols('x')\n",
        "    return lambdify(x, expression, 'numpy')(x_val)\n",
        "\n",
        "# Implementación del método de bisección\n",
        "def biseccion(expression, a, b, tol, max_iter):\n",
        "    resultados = []\n",
        "    x = symbols('x')\n",
        "    f = lambdify(x, expression, 'numpy')\n",
        "\n",
        "    if f(a) * f(b) >= 0:\n",
        "        raise ValueError(\"f(a) y f(b) deben tener signos opuestos\")\n",
        "    c = a\n",
        "    for i in range(max_iter):\n",
        "        c = (a + b) / 2\n",
        "        resultados.append((i, a, b, c, f(c)))\n",
        "        if f(c) == 0 or (b - a) / 2 < tol:\n",
        "            break\n",
        "        if f(c) * f(a) < 0:\n",
        "            b = c\n",
        "        else:\n",
        "            a = c\n",
        "    return c, resultados\n",
        "\n",
        "# Función para actualizar la gráfica y la tabla\n",
        "def calcular_raiz(expr_str, a, b, tol, max_iter):\n",
        "    try:\n",
        "        expression = sympify(expr_str)\n",
        "        a = float(a)\n",
        "        b = float(b)\n",
        "        tol = float(tol)\n",
        "        max_iter = int(max_iter)\n",
        "\n",
        "        raiz, resultados = biseccion(expression, a, b, tol, max_iter)\n",
        "\n",
        "        # Actualizar tabla\n",
        "        fig, ax = plt.subplots(figsize=(10, 6))\n",
        "        x = np.linspace(a, b, 400)\n",
        "        y = eval_function(expression, x)\n",
        "        ax.plot(x, y, label=\"f(x)\")\n",
        "        ax.axhline(0, color='black', linewidth=0.5)\n",
        "        ax.axvline(raiz, color='r', linestyle='--', label=f'Raíz aprox: {raiz:.6f}')\n",
        "        ax.legend()\n",
        "        ax.tick_params(axis='both', labelsize=16)\n",
        "        ax.set_title('Método de Bisección', fontsize=18)\n",
        "        ax.set_xlabel('x', fontsize=16)\n",
        "        ax.set_ylabel('f(x)', fontsize=16)\n",
        "\n",
        "        # Añadir texto que marque la solución\n",
        "        ax.text(raiz, 0, f'  x = {raiz:.6f}', fontsize=16, verticalalignment='bottom', color='red')\n",
        "\n",
        "        plt.show()\n",
        "\n",
        "        # Mostrar resultados en tabla\n",
        "        display_resultados(resultados)\n",
        "\n",
        "    except ValueError as e:\n",
        "        print(f\"Error: {str(e)}\")\n",
        "    except Exception as e:\n",
        "        print(f\"Error en la evaluación de la función: {str(e)}\")\n",
        "\n",
        "def display_resultados(resultados):\n",
        "    from IPython.display import HTML, display\n",
        "    html = \"<table><tr><th>Iteración</th><th>a</th><th>b</th><th>c</th><th>f(c)</th></tr>\"\n",
        "    for res in resultados:\n",
        "        html += f\"<tr><td>{res[0]}</td><td>{res[1]:.6f}</td><td>{res[2]:.6f}</td><td>{res[3]:.6f}</td><td>{res[4]:.6f}</td></tr>\"\n",
        "    html += \"</table>\"\n",
        "    display(HTML(html))\n",
        "\n",
        "# Widgets de entrada\n",
        "func_input = widgets.Text(value='x**3 - x - 2', description='Función f(x):')\n",
        "a_input = widgets.Text(value='-3', description='a:')\n",
        "b_input = widgets.Text(value='3', description='b:')\n",
        "tol_input = widgets.Text(value='0.001', description='Tolerancia:')\n",
        "max_iter_input = widgets.Text(value='50', description='Máx. Iteraciones:')\n",
        "calc_button = widgets.Button(description=\"Calcular\")\n",
        "\n",
        "# Función para manejar el evento de clic del botón\n",
        "def on_calc_button_clicked(b):\n",
        "    clear_output(wait=True)\n",
        "    display(func_input, a_input, b_input, tol_input, max_iter_input, calc_button)\n",
        "    calcular_raiz(func_input.value, a_input.value, b_input.value, tol_input.value, max_iter_input.value)\n",
        "\n",
        "# Asignar el controlador de eventos al botón\n",
        "calc_button.on_click(on_calc_button_clicked)\n",
        "\n",
        "# Mostrar los widgets\n",
        "display(func_input, a_input, b_input, tol_input, max_iter_input, calc_button)\n"
      ]
    },
    {
      "cell_type": "code",
      "execution_count": null,
      "metadata": {
        "id": "ojiHOe-k0zTB"
      },
      "outputs": [],
      "source": []
    }
  ],
  "metadata": {
    "colab": {
      "provenance": [],
      "authorship_tag": "ABX9TyMq09TmdA9SJsePE4J4Ifxi",
      "include_colab_link": true
    },
    "kernelspec": {
      "display_name": "Python 3",
      "name": "python3"
    },
    "language_info": {
      "name": "python"
    },
    "widgets": {
      "application/vnd.jupyter.widget-state+json": {
        "08f4db80fe45417fb442f4f2107dc54e": {
          "model_module": "@jupyter-widgets/base",
          "model_module_version": "1.2.0",
          "model_name": "LayoutModel",
          "state": {
            "_model_module": "@jupyter-widgets/base",
            "_model_module_version": "1.2.0",
            "_model_name": "LayoutModel",
            "_view_count": null,
            "_view_module": "@jupyter-widgets/base",
            "_view_module_version": "1.2.0",
            "_view_name": "LayoutView",
            "align_content": null,
            "align_items": null,
            "align_self": null,
            "border": null,
            "bottom": null,
            "display": null,
            "flex": null,
            "flex_flow": null,
            "grid_area": null,
            "grid_auto_columns": null,
            "grid_auto_flow": null,
            "grid_auto_rows": null,
            "grid_column": null,
            "grid_gap": null,
            "grid_row": null,
            "grid_template_areas": null,
            "grid_template_columns": null,
            "grid_template_rows": null,
            "height": null,
            "justify_content": null,
            "justify_items": null,
            "left": null,
            "margin": null,
            "max_height": null,
            "max_width": null,
            "min_height": null,
            "min_width": null,
            "object_fit": null,
            "object_position": null,
            "order": null,
            "overflow": null,
            "overflow_x": null,
            "overflow_y": null,
            "padding": null,
            "right": null,
            "top": null,
            "visibility": null,
            "width": null
          }
        },
        "23e3aabe2bec4bafac775a1b689236c9": {
          "model_module": "@jupyter-widgets/controls",
          "model_module_version": "1.5.0",
          "model_name": "TextModel",
          "state": {
            "_dom_classes": [],
            "_model_module": "@jupyter-widgets/controls",
            "_model_module_version": "1.5.0",
            "_model_name": "TextModel",
            "_view_count": null,
            "_view_module": "@jupyter-widgets/controls",
            "_view_module_version": "1.5.0",
            "_view_name": "TextView",
            "continuous_update": true,
            "description": "a:",
            "description_tooltip": null,
            "disabled": false,
            "layout": "IPY_MODEL_d9d5c9c05910430e83f72ef0f9b1bfa6",
            "placeholder": "​",
            "style": "IPY_MODEL_7ab4835838004ffca5069cd9097cc14c",
            "value": "3"
          }
        },
        "3444b19fe678482ebfdb07bc08cc6fa2": {
          "model_module": "@jupyter-widgets/controls",
          "model_module_version": "1.5.0",
          "model_name": "DescriptionStyleModel",
          "state": {
            "_model_module": "@jupyter-widgets/controls",
            "_model_module_version": "1.5.0",
            "_model_name": "DescriptionStyleModel",
            "_view_count": null,
            "_view_module": "@jupyter-widgets/base",
            "_view_module_version": "1.2.0",
            "_view_name": "StyleView",
            "description_width": ""
          }
        },
        "43ffd58d550e42ea8aded5c55c86eb40": {
          "model_module": "@jupyter-widgets/base",
          "model_module_version": "1.2.0",
          "model_name": "LayoutModel",
          "state": {
            "_model_module": "@jupyter-widgets/base",
            "_model_module_version": "1.2.0",
            "_model_name": "LayoutModel",
            "_view_count": null,
            "_view_module": "@jupyter-widgets/base",
            "_view_module_version": "1.2.0",
            "_view_name": "LayoutView",
            "align_content": null,
            "align_items": null,
            "align_self": null,
            "border": null,
            "bottom": null,
            "display": null,
            "flex": null,
            "flex_flow": null,
            "grid_area": null,
            "grid_auto_columns": null,
            "grid_auto_flow": null,
            "grid_auto_rows": null,
            "grid_column": null,
            "grid_gap": null,
            "grid_row": null,
            "grid_template_areas": null,
            "grid_template_columns": null,
            "grid_template_rows": null,
            "height": null,
            "justify_content": null,
            "justify_items": null,
            "left": null,
            "margin": null,
            "max_height": null,
            "max_width": null,
            "min_height": null,
            "min_width": null,
            "object_fit": null,
            "object_position": null,
            "order": null,
            "overflow": null,
            "overflow_x": null,
            "overflow_y": null,
            "padding": null,
            "right": null,
            "top": null,
            "visibility": null,
            "width": null
          }
        },
        "4532a55b7d854f5e8523c90fd78a5654": {
          "model_module": "@jupyter-widgets/controls",
          "model_module_version": "1.5.0",
          "model_name": "DescriptionStyleModel",
          "state": {
            "_model_module": "@jupyter-widgets/controls",
            "_model_module_version": "1.5.0",
            "_model_name": "DescriptionStyleModel",
            "_view_count": null,
            "_view_module": "@jupyter-widgets/base",
            "_view_module_version": "1.2.0",
            "_view_name": "StyleView",
            "description_width": ""
          }
        },
        "5b8d3cb65c1c479295a2eae79bded43b": {
          "model_module": "@jupyter-widgets/base",
          "model_module_version": "1.2.0",
          "model_name": "LayoutModel",
          "state": {
            "_model_module": "@jupyter-widgets/base",
            "_model_module_version": "1.2.0",
            "_model_name": "LayoutModel",
            "_view_count": null,
            "_view_module": "@jupyter-widgets/base",
            "_view_module_version": "1.2.0",
            "_view_name": "LayoutView",
            "align_content": null,
            "align_items": null,
            "align_self": null,
            "border": null,
            "bottom": null,
            "display": null,
            "flex": null,
            "flex_flow": null,
            "grid_area": null,
            "grid_auto_columns": null,
            "grid_auto_flow": null,
            "grid_auto_rows": null,
            "grid_column": null,
            "grid_gap": null,
            "grid_row": null,
            "grid_template_areas": null,
            "grid_template_columns": null,
            "grid_template_rows": null,
            "height": null,
            "justify_content": null,
            "justify_items": null,
            "left": null,
            "margin": null,
            "max_height": null,
            "max_width": null,
            "min_height": null,
            "min_width": null,
            "object_fit": null,
            "object_position": null,
            "order": null,
            "overflow": null,
            "overflow_x": null,
            "overflow_y": null,
            "padding": null,
            "right": null,
            "top": null,
            "visibility": null,
            "width": null
          }
        },
        "716d8045a0144ed19eb13c7e40c5c2c2": {
          "model_module": "@jupyter-widgets/controls",
          "model_module_version": "1.5.0",
          "model_name": "ButtonModel",
          "state": {
            "_dom_classes": [],
            "_model_module": "@jupyter-widgets/controls",
            "_model_module_version": "1.5.0",
            "_model_name": "ButtonModel",
            "_view_count": null,
            "_view_module": "@jupyter-widgets/controls",
            "_view_module_version": "1.5.0",
            "_view_name": "ButtonView",
            "button_style": "",
            "description": "Calcular",
            "disabled": false,
            "icon": "",
            "layout": "IPY_MODEL_5b8d3cb65c1c479295a2eae79bded43b",
            "style": "IPY_MODEL_f38614d2f0f344d288dfa3ac8a010793",
            "tooltip": ""
          }
        },
        "7ab4835838004ffca5069cd9097cc14c": {
          "model_module": "@jupyter-widgets/controls",
          "model_module_version": "1.5.0",
          "model_name": "DescriptionStyleModel",
          "state": {
            "_model_module": "@jupyter-widgets/controls",
            "_model_module_version": "1.5.0",
            "_model_name": "DescriptionStyleModel",
            "_view_count": null,
            "_view_module": "@jupyter-widgets/base",
            "_view_module_version": "1.2.0",
            "_view_name": "StyleView",
            "description_width": ""
          }
        },
        "835d244e54684e25b45959a5d160994f": {
          "model_module": "@jupyter-widgets/controls",
          "model_module_version": "1.5.0",
          "model_name": "DescriptionStyleModel",
          "state": {
            "_model_module": "@jupyter-widgets/controls",
            "_model_module_version": "1.5.0",
            "_model_name": "DescriptionStyleModel",
            "_view_count": null,
            "_view_module": "@jupyter-widgets/base",
            "_view_module_version": "1.2.0",
            "_view_name": "StyleView",
            "description_width": ""
          }
        },
        "9108d142a69047d282be5a32a2b30ba7": {
          "model_module": "@jupyter-widgets/controls",
          "model_module_version": "1.5.0",
          "model_name": "TextModel",
          "state": {
            "_dom_classes": [],
            "_model_module": "@jupyter-widgets/controls",
            "_model_module_version": "1.5.0",
            "_model_name": "TextModel",
            "_view_count": null,
            "_view_module": "@jupyter-widgets/controls",
            "_view_module_version": "1.5.0",
            "_view_name": "TextView",
            "continuous_update": true,
            "description": "Función f(x):",
            "description_tooltip": null,
            "disabled": false,
            "layout": "IPY_MODEL_bb1e7d8cbeaf47108d8f2b7cbd413e86",
            "placeholder": "​",
            "style": "IPY_MODEL_835d244e54684e25b45959a5d160994f",
            "value": "10*exp(x/2)*cos(2*x)-4"
          }
        },
        "a3723ba5b2804dc0a5f4ae0edfd3689f": {
          "model_module": "@jupyter-widgets/controls",
          "model_module_version": "1.5.0",
          "model_name": "TextModel",
          "state": {
            "_dom_classes": [],
            "_model_module": "@jupyter-widgets/controls",
            "_model_module_version": "1.5.0",
            "_model_name": "TextModel",
            "_view_count": null,
            "_view_module": "@jupyter-widgets/controls",
            "_view_module_version": "1.5.0",
            "_view_name": "TextView",
            "continuous_update": true,
            "description": "Máx. Iteraciones:",
            "description_tooltip": null,
            "disabled": false,
            "layout": "IPY_MODEL_08f4db80fe45417fb442f4f2107dc54e",
            "placeholder": "​",
            "style": "IPY_MODEL_4532a55b7d854f5e8523c90fd78a5654",
            "value": "50"
          }
        },
        "a7cdd38e020a4525833b6dcf64e0925e": {
          "model_module": "@jupyter-widgets/controls",
          "model_module_version": "1.5.0",
          "model_name": "TextModel",
          "state": {
            "_dom_classes": [],
            "_model_module": "@jupyter-widgets/controls",
            "_model_module_version": "1.5.0",
            "_model_name": "TextModel",
            "_view_count": null,
            "_view_module": "@jupyter-widgets/controls",
            "_view_module_version": "1.5.0",
            "_view_name": "TextView",
            "continuous_update": true,
            "description": "Tolerancia:",
            "description_tooltip": null,
            "disabled": false,
            "layout": "IPY_MODEL_43ffd58d550e42ea8aded5c55c86eb40",
            "placeholder": "​",
            "style": "IPY_MODEL_c35452c7a6d347c7b3efb5b48b9ebb1d",
            "value": "0.001"
          }
        },
        "bb1e7d8cbeaf47108d8f2b7cbd413e86": {
          "model_module": "@jupyter-widgets/base",
          "model_module_version": "1.2.0",
          "model_name": "LayoutModel",
          "state": {
            "_model_module": "@jupyter-widgets/base",
            "_model_module_version": "1.2.0",
            "_model_name": "LayoutModel",
            "_view_count": null,
            "_view_module": "@jupyter-widgets/base",
            "_view_module_version": "1.2.0",
            "_view_name": "LayoutView",
            "align_content": null,
            "align_items": null,
            "align_self": null,
            "border": null,
            "bottom": null,
            "display": null,
            "flex": null,
            "flex_flow": null,
            "grid_area": null,
            "grid_auto_columns": null,
            "grid_auto_flow": null,
            "grid_auto_rows": null,
            "grid_column": null,
            "grid_gap": null,
            "grid_row": null,
            "grid_template_areas": null,
            "grid_template_columns": null,
            "grid_template_rows": null,
            "height": null,
            "justify_content": null,
            "justify_items": null,
            "left": null,
            "margin": null,
            "max_height": null,
            "max_width": null,
            "min_height": null,
            "min_width": null,
            "object_fit": null,
            "object_position": null,
            "order": null,
            "overflow": null,
            "overflow_x": null,
            "overflow_y": null,
            "padding": null,
            "right": null,
            "top": null,
            "visibility": null,
            "width": null
          }
        },
        "c35452c7a6d347c7b3efb5b48b9ebb1d": {
          "model_module": "@jupyter-widgets/controls",
          "model_module_version": "1.5.0",
          "model_name": "DescriptionStyleModel",
          "state": {
            "_model_module": "@jupyter-widgets/controls",
            "_model_module_version": "1.5.0",
            "_model_name": "DescriptionStyleModel",
            "_view_count": null,
            "_view_module": "@jupyter-widgets/base",
            "_view_module_version": "1.2.0",
            "_view_name": "StyleView",
            "description_width": ""
          }
        },
        "d9d5c9c05910430e83f72ef0f9b1bfa6": {
          "model_module": "@jupyter-widgets/base",
          "model_module_version": "1.2.0",
          "model_name": "LayoutModel",
          "state": {
            "_model_module": "@jupyter-widgets/base",
            "_model_module_version": "1.2.0",
            "_model_name": "LayoutModel",
            "_view_count": null,
            "_view_module": "@jupyter-widgets/base",
            "_view_module_version": "1.2.0",
            "_view_name": "LayoutView",
            "align_content": null,
            "align_items": null,
            "align_self": null,
            "border": null,
            "bottom": null,
            "display": null,
            "flex": null,
            "flex_flow": null,
            "grid_area": null,
            "grid_auto_columns": null,
            "grid_auto_flow": null,
            "grid_auto_rows": null,
            "grid_column": null,
            "grid_gap": null,
            "grid_row": null,
            "grid_template_areas": null,
            "grid_template_columns": null,
            "grid_template_rows": null,
            "height": null,
            "justify_content": null,
            "justify_items": null,
            "left": null,
            "margin": null,
            "max_height": null,
            "max_width": null,
            "min_height": null,
            "min_width": null,
            "object_fit": null,
            "object_position": null,
            "order": null,
            "overflow": null,
            "overflow_x": null,
            "overflow_y": null,
            "padding": null,
            "right": null,
            "top": null,
            "visibility": null,
            "width": null
          }
        },
        "e0d079b8e94748e5bc42dd2145a6f42c": {
          "model_module": "@jupyter-widgets/controls",
          "model_module_version": "1.5.0",
          "model_name": "TextModel",
          "state": {
            "_dom_classes": [],
            "_model_module": "@jupyter-widgets/controls",
            "_model_module_version": "1.5.0",
            "_model_name": "TextModel",
            "_view_count": null,
            "_view_module": "@jupyter-widgets/controls",
            "_view_module_version": "1.5.0",
            "_view_name": "TextView",
            "continuous_update": true,
            "description": "b:",
            "description_tooltip": null,
            "disabled": false,
            "layout": "IPY_MODEL_f0cd34935a264ac6b63132f57b4f84b8",
            "placeholder": "​",
            "style": "IPY_MODEL_3444b19fe678482ebfdb07bc08cc6fa2",
            "value": "5"
          }
        },
        "f0cd34935a264ac6b63132f57b4f84b8": {
          "model_module": "@jupyter-widgets/base",
          "model_module_version": "1.2.0",
          "model_name": "LayoutModel",
          "state": {
            "_model_module": "@jupyter-widgets/base",
            "_model_module_version": "1.2.0",
            "_model_name": "LayoutModel",
            "_view_count": null,
            "_view_module": "@jupyter-widgets/base",
            "_view_module_version": "1.2.0",
            "_view_name": "LayoutView",
            "align_content": null,
            "align_items": null,
            "align_self": null,
            "border": null,
            "bottom": null,
            "display": null,
            "flex": null,
            "flex_flow": null,
            "grid_area": null,
            "grid_auto_columns": null,
            "grid_auto_flow": null,
            "grid_auto_rows": null,
            "grid_column": null,
            "grid_gap": null,
            "grid_row": null,
            "grid_template_areas": null,
            "grid_template_columns": null,
            "grid_template_rows": null,
            "height": null,
            "justify_content": null,
            "justify_items": null,
            "left": null,
            "margin": null,
            "max_height": null,
            "max_width": null,
            "min_height": null,
            "min_width": null,
            "object_fit": null,
            "object_position": null,
            "order": null,
            "overflow": null,
            "overflow_x": null,
            "overflow_y": null,
            "padding": null,
            "right": null,
            "top": null,
            "visibility": null,
            "width": null
          }
        },
        "f38614d2f0f344d288dfa3ac8a010793": {
          "model_module": "@jupyter-widgets/controls",
          "model_module_version": "1.5.0",
          "model_name": "ButtonStyleModel",
          "state": {
            "_model_module": "@jupyter-widgets/controls",
            "_model_module_version": "1.5.0",
            "_model_name": "ButtonStyleModel",
            "_view_count": null,
            "_view_module": "@jupyter-widgets/base",
            "_view_module_version": "1.2.0",
            "_view_name": "StyleView",
            "button_color": null,
            "font_weight": ""
          }
        }
      }
    }
  },
  "nbformat": 4,
  "nbformat_minor": 0
}
